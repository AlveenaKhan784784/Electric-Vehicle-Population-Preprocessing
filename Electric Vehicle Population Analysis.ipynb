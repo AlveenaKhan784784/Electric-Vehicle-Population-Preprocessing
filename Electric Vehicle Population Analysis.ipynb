{
 "cells": [
  {
   "cell_type": "code",
   "execution_count": 1,
   "id": "ac238586",
   "metadata": {},
   "outputs": [],
   "source": [
    "import pandas as pd\n",
    "import numpy as np\n",
    "import matplotlib.pyplot as plt\n",
    "import seaborn as sns"
   ]
  },
  {
   "cell_type": "code",
   "execution_count": 2,
   "id": "ff7ac156",
   "metadata": {},
   "outputs": [],
   "source": [
    "df = pd.read_csv('Electric_Vehicle_Population.csv')"
   ]
  },
  {
   "cell_type": "code",
   "execution_count": 3,
   "id": "837fe38f",
   "metadata": {},
   "outputs": [
    {
     "data": {
      "text/html": [
       "<div>\n",
       "<style scoped>\n",
       "    .dataframe tbody tr th:only-of-type {\n",
       "        vertical-align: middle;\n",
       "    }\n",
       "\n",
       "    .dataframe tbody tr th {\n",
       "        vertical-align: top;\n",
       "    }\n",
       "\n",
       "    .dataframe thead th {\n",
       "        text-align: right;\n",
       "    }\n",
       "</style>\n",
       "<table border=\"1\" class=\"dataframe\">\n",
       "  <thead>\n",
       "    <tr style=\"text-align: right;\">\n",
       "      <th></th>\n",
       "      <th>VIN (1-10)</th>\n",
       "      <th>County</th>\n",
       "      <th>City</th>\n",
       "      <th>State</th>\n",
       "      <th>Postal Code</th>\n",
       "      <th>Model Year</th>\n",
       "      <th>Make</th>\n",
       "      <th>Model</th>\n",
       "      <th>Electric Vehicle Type</th>\n",
       "      <th>Clean Alternative Fuel Vehicle (CAFV) Eligibility</th>\n",
       "      <th>Electric Range</th>\n",
       "      <th>Base MSRP</th>\n",
       "      <th>Legislative District</th>\n",
       "      <th>DOL Vehicle ID</th>\n",
       "      <th>Vehicle Location</th>\n",
       "      <th>Electric Utility</th>\n",
       "      <th>2020 Census Tract</th>\n",
       "    </tr>\n",
       "  </thead>\n",
       "  <tbody>\n",
       "    <tr>\n",
       "      <th>0</th>\n",
       "      <td>3MW5P9J05N</td>\n",
       "      <td>Arapahoe</td>\n",
       "      <td>Englewood</td>\n",
       "      <td>CO</td>\n",
       "      <td>80111.0</td>\n",
       "      <td>2022</td>\n",
       "      <td>BMW</td>\n",
       "      <td>330E</td>\n",
       "      <td>Plug-in Hybrid Electric Vehicle (PHEV)</td>\n",
       "      <td>Not eligible due to low battery range</td>\n",
       "      <td>22</td>\n",
       "      <td>0</td>\n",
       "      <td>NaN</td>\n",
       "      <td>200589147</td>\n",
       "      <td>POINT (-104.89239 39.61914)</td>\n",
       "      <td>NaN</td>\n",
       "      <td>8.005007e+09</td>\n",
       "    </tr>\n",
       "    <tr>\n",
       "      <th>1</th>\n",
       "      <td>5YJXCBE27J</td>\n",
       "      <td>Island</td>\n",
       "      <td>Greenbank</td>\n",
       "      <td>WA</td>\n",
       "      <td>98253.0</td>\n",
       "      <td>2018</td>\n",
       "      <td>TESLA</td>\n",
       "      <td>MODEL X</td>\n",
       "      <td>Battery Electric Vehicle (BEV)</td>\n",
       "      <td>Clean Alternative Fuel Vehicle Eligible</td>\n",
       "      <td>238</td>\n",
       "      <td>0</td>\n",
       "      <td>10.0</td>\n",
       "      <td>326880081</td>\n",
       "      <td>POINT (-122.575569 48.08489)</td>\n",
       "      <td>NaN</td>\n",
       "      <td>5.302997e+10</td>\n",
       "    </tr>\n",
       "    <tr>\n",
       "      <th>2</th>\n",
       "      <td>1N4AZ0CP3F</td>\n",
       "      <td>Kings</td>\n",
       "      <td>Lemoore</td>\n",
       "      <td>CA</td>\n",
       "      <td>93245.0</td>\n",
       "      <td>2015</td>\n",
       "      <td>NISSAN</td>\n",
       "      <td>LEAF</td>\n",
       "      <td>Battery Electric Vehicle (BEV)</td>\n",
       "      <td>Clean Alternative Fuel Vehicle Eligible</td>\n",
       "      <td>84</td>\n",
       "      <td>0</td>\n",
       "      <td>NaN</td>\n",
       "      <td>182237457</td>\n",
       "      <td>POINT (-119.78637 36.30101)</td>\n",
       "      <td>NaN</td>\n",
       "      <td>6.031980e+09</td>\n",
       "    </tr>\n",
       "    <tr>\n",
       "      <th>3</th>\n",
       "      <td>5YJ3E1EA8J</td>\n",
       "      <td>San Diego</td>\n",
       "      <td>Oceanside</td>\n",
       "      <td>CA</td>\n",
       "      <td>92051.0</td>\n",
       "      <td>2018</td>\n",
       "      <td>TESLA</td>\n",
       "      <td>MODEL 3</td>\n",
       "      <td>Battery Electric Vehicle (BEV)</td>\n",
       "      <td>Clean Alternative Fuel Vehicle Eligible</td>\n",
       "      <td>215</td>\n",
       "      <td>0</td>\n",
       "      <td>NaN</td>\n",
       "      <td>153998050</td>\n",
       "      <td>NaN</td>\n",
       "      <td>NaN</td>\n",
       "      <td>6.073019e+09</td>\n",
       "    </tr>\n",
       "    <tr>\n",
       "      <th>4</th>\n",
       "      <td>5YJ3E1EB1K</td>\n",
       "      <td>Alameda</td>\n",
       "      <td>Berkeley</td>\n",
       "      <td>CA</td>\n",
       "      <td>94710.0</td>\n",
       "      <td>2019</td>\n",
       "      <td>TESLA</td>\n",
       "      <td>MODEL 3</td>\n",
       "      <td>Battery Electric Vehicle (BEV)</td>\n",
       "      <td>Clean Alternative Fuel Vehicle Eligible</td>\n",
       "      <td>220</td>\n",
       "      <td>0</td>\n",
       "      <td>NaN</td>\n",
       "      <td>320914072</td>\n",
       "      <td>POINT (-122.300531 37.869271)</td>\n",
       "      <td>NaN</td>\n",
       "      <td>6.001423e+09</td>\n",
       "    </tr>\n",
       "  </tbody>\n",
       "</table>\n",
       "</div>"
      ],
      "text/plain": [
       "   VIN (1-10)     County       City State  Postal Code  Model Year    Make  \\\n",
       "0  3MW5P9J05N   Arapahoe  Englewood    CO      80111.0        2022     BMW   \n",
       "1  5YJXCBE27J     Island  Greenbank    WA      98253.0        2018   TESLA   \n",
       "2  1N4AZ0CP3F      Kings    Lemoore    CA      93245.0        2015  NISSAN   \n",
       "3  5YJ3E1EA8J  San Diego  Oceanside    CA      92051.0        2018   TESLA   \n",
       "4  5YJ3E1EB1K    Alameda   Berkeley    CA      94710.0        2019   TESLA   \n",
       "\n",
       "     Model                   Electric Vehicle Type  \\\n",
       "0     330E  Plug-in Hybrid Electric Vehicle (PHEV)   \n",
       "1  MODEL X          Battery Electric Vehicle (BEV)   \n",
       "2     LEAF          Battery Electric Vehicle (BEV)   \n",
       "3  MODEL 3          Battery Electric Vehicle (BEV)   \n",
       "4  MODEL 3          Battery Electric Vehicle (BEV)   \n",
       "\n",
       "  Clean Alternative Fuel Vehicle (CAFV) Eligibility  Electric Range  \\\n",
       "0             Not eligible due to low battery range              22   \n",
       "1           Clean Alternative Fuel Vehicle Eligible             238   \n",
       "2           Clean Alternative Fuel Vehicle Eligible              84   \n",
       "3           Clean Alternative Fuel Vehicle Eligible             215   \n",
       "4           Clean Alternative Fuel Vehicle Eligible             220   \n",
       "\n",
       "   Base MSRP  Legislative District  DOL Vehicle ID  \\\n",
       "0          0                   NaN       200589147   \n",
       "1          0                  10.0       326880081   \n",
       "2          0                   NaN       182237457   \n",
       "3          0                   NaN       153998050   \n",
       "4          0                   NaN       320914072   \n",
       "\n",
       "                Vehicle Location Electric Utility  2020 Census Tract  \n",
       "0    POINT (-104.89239 39.61914)              NaN       8.005007e+09  \n",
       "1   POINT (-122.575569 48.08489)              NaN       5.302997e+10  \n",
       "2    POINT (-119.78637 36.30101)              NaN       6.031980e+09  \n",
       "3                            NaN              NaN       6.073019e+09  \n",
       "4  POINT (-122.300531 37.869271)              NaN       6.001423e+09  "
      ]
     },
     "execution_count": 3,
     "metadata": {},
     "output_type": "execute_result"
    }
   ],
   "source": [
    "df.head()"
   ]
  },
  {
   "cell_type": "code",
   "execution_count": 4,
   "id": "1b15c555",
   "metadata": {},
   "outputs": [
    {
     "data": {
      "text/plain": [
       "(109481, 17)"
      ]
     },
     "execution_count": 4,
     "metadata": {},
     "output_type": "execute_result"
    }
   ],
   "source": [
    "df.shape"
   ]
  },
  {
   "cell_type": "code",
   "execution_count": 5,
   "id": "1ad0b081",
   "metadata": {},
   "outputs": [
    {
     "name": "stdout",
     "output_type": "stream",
     "text": [
      "<class 'pandas.core.frame.DataFrame'>\n",
      "RangeIndex: 109481 entries, 0 to 109480\n",
      "Data columns (total 17 columns):\n",
      " #   Column                                             Non-Null Count   Dtype  \n",
      "---  ------                                             --------------   -----  \n",
      " 0   VIN (1-10)                                         109481 non-null  object \n",
      " 1   County                                             109480 non-null  object \n",
      " 2   City                                               109480 non-null  object \n",
      " 3   State                                              109481 non-null  object \n",
      " 4   Postal Code                                        109480 non-null  float64\n",
      " 5   Model Year                                         109481 non-null  int64  \n",
      " 6   Make                                               109481 non-null  object \n",
      " 7   Model                                              109474 non-null  object \n",
      " 8   Electric Vehicle Type                              109481 non-null  object \n",
      " 9   Clean Alternative Fuel Vehicle (CAFV) Eligibility  109481 non-null  object \n",
      " 10  Electric Range                                     109481 non-null  int64  \n",
      " 11  Base MSRP                                          109481 non-null  int64  \n",
      " 12  Legislative District                               109205 non-null  float64\n",
      " 13  DOL Vehicle ID                                     109481 non-null  int64  \n",
      " 14  Vehicle Location                                   109456 non-null  object \n",
      " 15  Electric Utility                                   109053 non-null  object \n",
      " 16  2020 Census Tract                                  109480 non-null  float64\n",
      "dtypes: float64(3), int64(4), object(10)\n",
      "memory usage: 14.2+ MB\n"
     ]
    }
   ],
   "source": [
    "df.info()"
   ]
  },
  {
   "cell_type": "code",
   "execution_count": 6,
   "id": "837c9900",
   "metadata": {},
   "outputs": [
    {
     "data": {
      "text/html": [
       "<div>\n",
       "<style scoped>\n",
       "    .dataframe tbody tr th:only-of-type {\n",
       "        vertical-align: middle;\n",
       "    }\n",
       "\n",
       "    .dataframe tbody tr th {\n",
       "        vertical-align: top;\n",
       "    }\n",
       "\n",
       "    .dataframe thead th {\n",
       "        text-align: right;\n",
       "    }\n",
       "</style>\n",
       "<table border=\"1\" class=\"dataframe\">\n",
       "  <thead>\n",
       "    <tr style=\"text-align: right;\">\n",
       "      <th></th>\n",
       "      <th>Postal Code</th>\n",
       "      <th>Model Year</th>\n",
       "      <th>Electric Range</th>\n",
       "      <th>Base MSRP</th>\n",
       "      <th>Legislative District</th>\n",
       "      <th>DOL Vehicle ID</th>\n",
       "      <th>2020 Census Tract</th>\n",
       "    </tr>\n",
       "  </thead>\n",
       "  <tbody>\n",
       "    <tr>\n",
       "      <th>count</th>\n",
       "      <td>109480.000000</td>\n",
       "      <td>109481.000000</td>\n",
       "      <td>109481.000000</td>\n",
       "      <td>109481.000000</td>\n",
       "      <td>109205.000000</td>\n",
       "      <td>1.094810e+05</td>\n",
       "      <td>1.094800e+05</td>\n",
       "    </tr>\n",
       "    <tr>\n",
       "      <th>mean</th>\n",
       "      <td>98157.012943</td>\n",
       "      <td>2018.899197</td>\n",
       "      <td>90.211425</td>\n",
       "      <td>1849.194609</td>\n",
       "      <td>29.824120</td>\n",
       "      <td>1.984476e+08</td>\n",
       "      <td>5.296849e+10</td>\n",
       "    </tr>\n",
       "    <tr>\n",
       "      <th>std</th>\n",
       "      <td>2640.605503</td>\n",
       "      <td>2.872853</td>\n",
       "      <td>102.575715</td>\n",
       "      <td>10946.085012</td>\n",
       "      <td>14.679959</td>\n",
       "      <td>9.561719e+07</td>\n",
       "      <td>1.675104e+09</td>\n",
       "    </tr>\n",
       "    <tr>\n",
       "      <th>min</th>\n",
       "      <td>1730.000000</td>\n",
       "      <td>1997.000000</td>\n",
       "      <td>0.000000</td>\n",
       "      <td>0.000000</td>\n",
       "      <td>1.000000</td>\n",
       "      <td>4.777000e+03</td>\n",
       "      <td>1.101001e+09</td>\n",
       "    </tr>\n",
       "    <tr>\n",
       "      <th>25%</th>\n",
       "      <td>98052.000000</td>\n",
       "      <td>2017.000000</td>\n",
       "      <td>0.000000</td>\n",
       "      <td>0.000000</td>\n",
       "      <td>18.000000</td>\n",
       "      <td>1.467313e+08</td>\n",
       "      <td>5.303301e+10</td>\n",
       "    </tr>\n",
       "    <tr>\n",
       "      <th>50%</th>\n",
       "      <td>98121.000000</td>\n",
       "      <td>2019.000000</td>\n",
       "      <td>35.000000</td>\n",
       "      <td>0.000000</td>\n",
       "      <td>34.000000</td>\n",
       "      <td>1.874118e+08</td>\n",
       "      <td>5.303303e+10</td>\n",
       "    </tr>\n",
       "    <tr>\n",
       "      <th>75%</th>\n",
       "      <td>98370.000000</td>\n",
       "      <td>2021.000000</td>\n",
       "      <td>208.000000</td>\n",
       "      <td>0.000000</td>\n",
       "      <td>43.000000</td>\n",
       "      <td>2.169176e+08</td>\n",
       "      <td>5.305307e+10</td>\n",
       "    </tr>\n",
       "    <tr>\n",
       "      <th>max</th>\n",
       "      <td>99701.000000</td>\n",
       "      <td>2023.000000</td>\n",
       "      <td>337.000000</td>\n",
       "      <td>845000.000000</td>\n",
       "      <td>49.000000</td>\n",
       "      <td>4.792548e+08</td>\n",
       "      <td>5.603300e+10</td>\n",
       "    </tr>\n",
       "  </tbody>\n",
       "</table>\n",
       "</div>"
      ],
      "text/plain": [
       "         Postal Code     Model Year  Electric Range      Base MSRP  \\\n",
       "count  109480.000000  109481.000000   109481.000000  109481.000000   \n",
       "mean    98157.012943    2018.899197       90.211425    1849.194609   \n",
       "std      2640.605503       2.872853      102.575715   10946.085012   \n",
       "min      1730.000000    1997.000000        0.000000       0.000000   \n",
       "25%     98052.000000    2017.000000        0.000000       0.000000   \n",
       "50%     98121.000000    2019.000000       35.000000       0.000000   \n",
       "75%     98370.000000    2021.000000      208.000000       0.000000   \n",
       "max     99701.000000    2023.000000      337.000000  845000.000000   \n",
       "\n",
       "       Legislative District  DOL Vehicle ID  2020 Census Tract  \n",
       "count         109205.000000    1.094810e+05       1.094800e+05  \n",
       "mean              29.824120    1.984476e+08       5.296849e+10  \n",
       "std               14.679959    9.561719e+07       1.675104e+09  \n",
       "min                1.000000    4.777000e+03       1.101001e+09  \n",
       "25%               18.000000    1.467313e+08       5.303301e+10  \n",
       "50%               34.000000    1.874118e+08       5.303303e+10  \n",
       "75%               43.000000    2.169176e+08       5.305307e+10  \n",
       "max               49.000000    4.792548e+08       5.603300e+10  "
      ]
     },
     "execution_count": 6,
     "metadata": {},
     "output_type": "execute_result"
    }
   ],
   "source": [
    "df.describe()"
   ]
  },
  {
   "cell_type": "code",
   "execution_count": 7,
   "id": "15d947c4",
   "metadata": {},
   "outputs": [
    {
     "data": {
      "text/plain": [
       "VIN (1-10)                                            object\n",
       "County                                                object\n",
       "City                                                  object\n",
       "State                                                 object\n",
       "Postal Code                                          float64\n",
       "Model Year                                             int64\n",
       "Make                                                  object\n",
       "Model                                                 object\n",
       "Electric Vehicle Type                                 object\n",
       "Clean Alternative Fuel Vehicle (CAFV) Eligibility     object\n",
       "Electric Range                                         int64\n",
       "Base MSRP                                              int64\n",
       "Legislative District                                 float64\n",
       "DOL Vehicle ID                                         int64\n",
       "Vehicle Location                                      object\n",
       "Electric Utility                                      object\n",
       "2020 Census Tract                                    float64\n",
       "dtype: object"
      ]
     },
     "execution_count": 7,
     "metadata": {},
     "output_type": "execute_result"
    }
   ],
   "source": [
    "df.dtypes"
   ]
  },
  {
   "cell_type": "code",
   "execution_count": 8,
   "id": "825f8911",
   "metadata": {},
   "outputs": [
    {
     "data": {
      "text/plain": [
       "Index(['VIN (1-10)', 'County', 'City', 'State', 'Postal Code', 'Model Year',\n",
       "       'Make', 'Model', 'Electric Vehicle Type',\n",
       "       'Clean Alternative Fuel Vehicle (CAFV) Eligibility', 'Electric Range',\n",
       "       'Base MSRP', 'Legislative District', 'DOL Vehicle ID',\n",
       "       'Vehicle Location', 'Electric Utility', '2020 Census Tract'],\n",
       "      dtype='object')"
      ]
     },
     "execution_count": 8,
     "metadata": {},
     "output_type": "execute_result"
    }
   ],
   "source": [
    "df.columns"
   ]
  },
  {
   "cell_type": "code",
   "execution_count": 9,
   "id": "2ee4b7cd",
   "metadata": {},
   "outputs": [
    {
     "data": {
      "text/plain": [
       "VIN (1-10)                                             0\n",
       "County                                                 1\n",
       "City                                                   1\n",
       "State                                                  0\n",
       "Postal Code                                            1\n",
       "Model Year                                             0\n",
       "Make                                                   0\n",
       "Model                                                  7\n",
       "Electric Vehicle Type                                  0\n",
       "Clean Alternative Fuel Vehicle (CAFV) Eligibility      0\n",
       "Electric Range                                         0\n",
       "Base MSRP                                              0\n",
       "Legislative District                                 276\n",
       "DOL Vehicle ID                                         0\n",
       "Vehicle Location                                      25\n",
       "Electric Utility                                     428\n",
       "2020 Census Tract                                      1\n",
       "dtype: int64"
      ]
     },
     "execution_count": 9,
     "metadata": {},
     "output_type": "execute_result"
    }
   ],
   "source": [
    "df.isnull().sum()"
   ]
  },
  {
   "cell_type": "code",
   "execution_count": 10,
   "id": "13ed2e39",
   "metadata": {},
   "outputs": [
    {
     "data": {
      "text/plain": [
       "VIN (1-10)                                           0.000000\n",
       "County                                               0.000913\n",
       "City                                                 0.000913\n",
       "State                                                0.000000\n",
       "Postal Code                                          0.000913\n",
       "Model Year                                           0.000000\n",
       "Make                                                 0.000000\n",
       "Model                                                0.006394\n",
       "Electric Vehicle Type                                0.000000\n",
       "Clean Alternative Fuel Vehicle (CAFV) Eligibility    0.000000\n",
       "Electric Range                                       0.000000\n",
       "Base MSRP                                            0.000000\n",
       "Legislative District                                 0.252099\n",
       "DOL Vehicle ID                                       0.000000\n",
       "Vehicle Location                                     0.022835\n",
       "Electric Utility                                     0.390935\n",
       "2020 Census Tract                                    0.000913\n",
       "dtype: float64"
      ]
     },
     "execution_count": 10,
     "metadata": {},
     "output_type": "execute_result"
    }
   ],
   "source": [
    "((df.isnull().sum())/len(df))*100"
   ]
  },
  {
   "cell_type": "code",
   "execution_count": 11,
   "id": "978297d4",
   "metadata": {},
   "outputs": [],
   "source": [
    "df['County'].fillna('Unknown', inplace = True)"
   ]
  },
  {
   "cell_type": "code",
   "execution_count": 12,
   "id": "4ad75a15",
   "metadata": {},
   "outputs": [],
   "source": [
    "df['City'].fillna('Unknown', inplace = True)"
   ]
  },
  {
   "cell_type": "code",
   "execution_count": 13,
   "id": "462713f6",
   "metadata": {},
   "outputs": [],
   "source": [
    "df['Postal Code'].fillna(0, inplace=True)"
   ]
  },
  {
   "cell_type": "code",
   "execution_count": 14,
   "id": "3229a2ea",
   "metadata": {},
   "outputs": [],
   "source": [
    "df['Model'].fillna('Unknown', inplace=True)"
   ]
  },
  {
   "cell_type": "code",
   "execution_count": 15,
   "id": "8684134e",
   "metadata": {},
   "outputs": [
    {
     "data": {
      "text/plain": [
       "<AxesSubplot:xlabel='Legislative District', ylabel='Count'>"
      ]
     },
     "execution_count": 15,
     "metadata": {},
     "output_type": "execute_result"
    },
    {
     "data": {
      "image/png": "[encoded data removed]",
      "text/plain": [
       "<Figure size 640x480 with 1 Axes>"
      ]
     },
     "metadata": {},
     "output_type": "display_data"
    }
   ],
   "source": [
    "sns.histplot(df['Legislative District'],kde = True)"
   ]
  },
  {
   "cell_type": "code",
   "execution_count": 16,
   "id": "60baeb0d",
   "metadata": {},
   "outputs": [],
   "source": [
    "df['Legislative District'].fillna(0, inplace=True)"
   ]
  },
  {
   "cell_type": "code",
   "execution_count": 17,
   "id": "46c96e00",
   "metadata": {},
   "outputs": [],
   "source": [
    "df['Vehicle Location'].fillna('Unknown',inplace=True)"
   ]
  },
  {
   "cell_type": "code",
   "execution_count": 18,
   "id": "7eb892e5",
   "metadata": {},
   "outputs": [
    {
     "data": {
      "text/html": [
       "<div>\n",
       "<style scoped>\n",
       "    .dataframe tbody tr th:only-of-type {\n",
       "        vertical-align: middle;\n",
       "    }\n",
       "\n",
       "    .dataframe tbody tr th {\n",
       "        vertical-align: top;\n",
       "    }\n",
       "\n",
       "    .dataframe thead th {\n",
       "        text-align: right;\n",
       "    }\n",
       "</style>\n",
       "<table border=\"1\" class=\"dataframe\">\n",
       "  <thead>\n",
       "    <tr style=\"text-align: right;\">\n",
       "      <th></th>\n",
       "      <th>VIN (1-10)</th>\n",
       "      <th>County</th>\n",
       "      <th>City</th>\n",
       "      <th>State</th>\n",
       "      <th>Postal Code</th>\n",
       "      <th>Model Year</th>\n",
       "      <th>Make</th>\n",
       "      <th>Model</th>\n",
       "      <th>Electric Vehicle Type</th>\n",
       "      <th>Clean Alternative Fuel Vehicle (CAFV) Eligibility</th>\n",
       "      <th>Electric Range</th>\n",
       "      <th>Base MSRP</th>\n",
       "      <th>Legislative District</th>\n",
       "      <th>DOL Vehicle ID</th>\n",
       "      <th>Vehicle Location</th>\n",
       "      <th>Electric Utility</th>\n",
       "      <th>2020 Census Tract</th>\n",
       "    </tr>\n",
       "  </thead>\n",
       "  <tbody>\n",
       "    <tr>\n",
       "      <th>109476</th>\n",
       "      <td>KM8K33AGXN</td>\n",
       "      <td>Whatcom</td>\n",
       "      <td>Bellingham</td>\n",
       "      <td>WA</td>\n",
       "      <td>98229.0</td>\n",
       "      <td>2022</td>\n",
       "      <td>HYUNDAI</td>\n",
       "      <td>KONA ELECTRIC</td>\n",
       "      <td>Battery Electric Vehicle (BEV)</td>\n",
       "      <td>Eligibility unknown as battery range has not b...</td>\n",
       "      <td>0</td>\n",
       "      <td>0</td>\n",
       "      <td>40.0</td>\n",
       "      <td>176212200</td>\n",
       "      <td>POINT (-122.414936 48.709388)</td>\n",
       "      <td>PUGET SOUND ENERGY INC||PUD NO 1 OF WHATCOM CO...</td>\n",
       "      <td>5.307300e+10</td>\n",
       "    </tr>\n",
       "    <tr>\n",
       "      <th>109477</th>\n",
       "      <td>5YJ3E1EB2N</td>\n",
       "      <td>King</td>\n",
       "      <td>Sammamish</td>\n",
       "      <td>WA</td>\n",
       "      <td>98075.0</td>\n",
       "      <td>2022</td>\n",
       "      <td>TESLA</td>\n",
       "      <td>MODEL 3</td>\n",
       "      <td>Battery Electric Vehicle (BEV)</td>\n",
       "      <td>Eligibility unknown as battery range has not b...</td>\n",
       "      <td>0</td>\n",
       "      <td>0</td>\n",
       "      <td>41.0</td>\n",
       "      <td>185637224</td>\n",
       "      <td>POINT (-122.028168 47.586173)</td>\n",
       "      <td>PUGET SOUND ENERGY INC||CITY OF TACOMA - (WA)</td>\n",
       "      <td>5.303303e+10</td>\n",
       "    </tr>\n",
       "    <tr>\n",
       "      <th>109478</th>\n",
       "      <td>5YJYGDEE9M</td>\n",
       "      <td>Snohomish</td>\n",
       "      <td>Bothell</td>\n",
       "      <td>WA</td>\n",
       "      <td>98021.0</td>\n",
       "      <td>2021</td>\n",
       "      <td>TESLA</td>\n",
       "      <td>MODEL Y</td>\n",
       "      <td>Battery Electric Vehicle (BEV)</td>\n",
       "      <td>Eligibility unknown as battery range has not b...</td>\n",
       "      <td>0</td>\n",
       "      <td>0</td>\n",
       "      <td>1.0</td>\n",
       "      <td>153892070</td>\n",
       "      <td>POINT (-122.212105 47.792368)</td>\n",
       "      <td>PUGET SOUND ENERGY INC</td>\n",
       "      <td>5.306105e+10</td>\n",
       "    </tr>\n",
       "    <tr>\n",
       "      <th>109479</th>\n",
       "      <td>1N4AZ1CP0J</td>\n",
       "      <td>King</td>\n",
       "      <td>Shoreline</td>\n",
       "      <td>WA</td>\n",
       "      <td>98133.0</td>\n",
       "      <td>2018</td>\n",
       "      <td>NISSAN</td>\n",
       "      <td>LEAF</td>\n",
       "      <td>Battery Electric Vehicle (BEV)</td>\n",
       "      <td>Clean Alternative Fuel Vehicle Eligible</td>\n",
       "      <td>151</td>\n",
       "      <td>0</td>\n",
       "      <td>32.0</td>\n",
       "      <td>289064191</td>\n",
       "      <td>POINT (-122.343983 47.739969)</td>\n",
       "      <td>CITY OF SEATTLE - (WA)|CITY OF TACOMA - (WA)</td>\n",
       "      <td>5.303302e+10</td>\n",
       "    </tr>\n",
       "    <tr>\n",
       "      <th>109480</th>\n",
       "      <td>5YJYGDEE2M</td>\n",
       "      <td>Benton</td>\n",
       "      <td>Richland</td>\n",
       "      <td>WA</td>\n",
       "      <td>99354.0</td>\n",
       "      <td>2021</td>\n",
       "      <td>TESLA</td>\n",
       "      <td>MODEL Y</td>\n",
       "      <td>Battery Electric Vehicle (BEV)</td>\n",
       "      <td>Eligibility unknown as battery range has not b...</td>\n",
       "      <td>0</td>\n",
       "      <td>0</td>\n",
       "      <td>8.0</td>\n",
       "      <td>171199227</td>\n",
       "      <td>POINT (-119.26844 46.31484)</td>\n",
       "      <td>BONNEVILLE POWER ADMINISTRATION||CITY OF RICHL...</td>\n",
       "      <td>5.300501e+10</td>\n",
       "    </tr>\n",
       "  </tbody>\n",
       "</table>\n",
       "</div>"
      ],
      "text/plain": [
       "        VIN (1-10)     County        City State  Postal Code  Model Year  \\\n",
       "109476  KM8K33AGXN    Whatcom  Bellingham    WA      98229.0        2022   \n",
       "109477  5YJ3E1EB2N       King   Sammamish    WA      98075.0        2022   \n",
       "109478  5YJYGDEE9M  Snohomish     Bothell    WA      98021.0        2021   \n",
       "109479  1N4AZ1CP0J       King   Shoreline    WA      98133.0        2018   \n",
       "109480  5YJYGDEE2M     Benton    Richland    WA      99354.0        2021   \n",
       "\n",
       "           Make          Model           Electric Vehicle Type  \\\n",
       "109476  HYUNDAI  KONA ELECTRIC  Battery Electric Vehicle (BEV)   \n",
       "109477    TESLA        MODEL 3  Battery Electric Vehicle (BEV)   \n",
       "109478    TESLA        MODEL Y  Battery Electric Vehicle (BEV)   \n",
       "109479   NISSAN           LEAF  Battery Electric Vehicle (BEV)   \n",
       "109480    TESLA        MODEL Y  Battery Electric Vehicle (BEV)   \n",
       "\n",
       "        Clean Alternative Fuel Vehicle (CAFV) Eligibility  Electric Range  \\\n",
       "109476  Eligibility unknown as battery range has not b...               0   \n",
       "109477  Eligibility unknown as battery range has not b...               0   \n",
       "109478  Eligibility unknown as battery range has not b...               0   \n",
       "109479            Clean Alternative Fuel Vehicle Eligible             151   \n",
       "109480  Eligibility unknown as battery range has not b...               0   \n",
       "\n",
       "        Base MSRP  Legislative District  DOL Vehicle ID  \\\n",
       "109476          0                  40.0       176212200   \n",
       "109477          0                  41.0       185637224   \n",
       "109478          0                   1.0       153892070   \n",
       "109479          0                  32.0       289064191   \n",
       "109480          0                   8.0       171199227   \n",
       "\n",
       "                     Vehicle Location  \\\n",
       "109476  POINT (-122.414936 48.709388)   \n",
       "109477  POINT (-122.028168 47.586173)   \n",
       "109478  POINT (-122.212105 47.792368)   \n",
       "109479  POINT (-122.343983 47.739969)   \n",
       "109480    POINT (-119.26844 46.31484)   \n",
       "\n",
       "                                         Electric Utility  2020 Census Tract  \n",
       "109476  PUGET SOUND ENERGY INC||PUD NO 1 OF WHATCOM CO...       5.307300e+10  \n",
       "109477      PUGET SOUND ENERGY INC||CITY OF TACOMA - (WA)       5.303303e+10  \n",
       "109478                             PUGET SOUND ENERGY INC       5.306105e+10  \n",
       "109479       CITY OF SEATTLE - (WA)|CITY OF TACOMA - (WA)       5.303302e+10  \n",
       "109480  BONNEVILLE POWER ADMINISTRATION||CITY OF RICHL...       5.300501e+10  "
      ]
     },
     "execution_count": 18,
     "metadata": {},
     "output_type": "execute_result"
    }
   ],
   "source": [
    "df.tail()"
   ]
  },
  {
   "cell_type": "code",
   "execution_count": 19,
   "id": "1fc09c27",
   "metadata": {},
   "outputs": [],
   "source": [
    "df['Electric Utility'].fillna('Unknown',inplace=True)"
   ]
  },
  {
   "cell_type": "code",
   "execution_count": 27,
   "id": "be29679c",
   "metadata": {},
   "outputs": [],
   "source": [
    "df['2020 Census Tract'].fillna(df['2020 Census Tract'].median(),inplace=True)"
   ]
  },
  {
   "cell_type": "code",
   "execution_count": 29,
   "id": "b4db0212",
   "metadata": {},
   "outputs": [
    {
     "data": {
      "text/plain": [
       "VIN (1-10)                                           0\n",
       "County                                               0\n",
       "City                                                 0\n",
       "State                                                0\n",
       "Postal Code                                          0\n",
       "Model Year                                           0\n",
       "Make                                                 0\n",
       "Model                                                0\n",
       "Electric Vehicle Type                                0\n",
       "Clean Alternative Fuel Vehicle (CAFV) Eligibility    0\n",
       "Electric Range                                       0\n",
       "Base MSRP                                            0\n",
       "Legislative District                                 0\n",
       "DOL Vehicle ID                                       0\n",
       "Vehicle Location                                     0\n",
       "Electric Utility                                     0\n",
       "2020 Census Tract                                    0\n",
       "dtype: int64"
      ]
     },
     "execution_count": 29,
     "metadata": {},
     "output_type": "execute_result"
    }
   ],
   "source": [
    "df.isnull().sum()"
   ]
  },
  {
   "cell_type": "code",
   "execution_count": 22,
   "id": "c05a4ad6",
   "metadata": {},
   "outputs": [
    {
     "data": {
      "text/plain": [
       "0"
      ]
     },
     "execution_count": 22,
     "metadata": {},
     "output_type": "execute_result"
    }
   ],
   "source": [
    "df.duplicated().sum()"
   ]
  },
  {
   "cell_type": "code",
   "execution_count": 23,
   "id": "4a57173b",
   "metadata": {},
   "outputs": [
    {
     "data": {
      "image/png": "[encoded data removed]",
      "text/plain": [
       "<Figure size 640x480 with 1 Axes>"
      ]
     },
     "metadata": {},
     "output_type": "display_data"
    },
    {
     "data": {
      "image/png": "[encoded data removed]",
      "text/plain": [
       "<Figure size 1200x600 with 1 Axes>"
      ]
     },
     "metadata": {},
     "output_type": "display_data"
    }
   ],
   "source": [
    "num_col = df.select_dtypes(include=['float64','int64'])\n",
    "sns.boxplot(data=num_col)\n",
    "plt.xticks(rotation=45)\n",
    "plt.figure(figsize=(12,6))\n",
    "plt.title('Box plot of all numerical column')\n",
    "plt.show()"
   ]
  },
  {
   "cell_type": "code",
   "execution_count": 24,
   "id": "c6c924a0",
   "metadata": {},
   "outputs": [
    {
     "name": "stderr",
     "output_type": "stream",
     "text": [
      "C:\\Users\\PMLS\\anaconda3\\lib\\site-packages\\seaborn\\_decorators.py:36: FutureWarning: Pass the following variable as a keyword arg: x. From version 0.12, the only valid positional argument will be `data`, and passing other arguments without an explicit keyword will result in an error or misinterpretation.\n",
      "  warnings.warn(\n"
     ]
    },
    {
     "data": {
      "text/plain": [
       "<AxesSubplot:xlabel='2020 Census Tract'>"
      ]
     },
     "execution_count": 24,
     "metadata": {},
     "output_type": "execute_result"
    },
    {
     "data": {
      "image/png": "[encoded data removed]",
      "text/plain": [
       "<Figure size 640x480 with 1 Axes>"
      ]
     },
     "metadata": {},
     "output_type": "display_data"
    }
   ],
   "source": [
    "sns.boxplot(df['2020 Census Tract'])"
   ]
  },
  {
   "cell_type": "code",
   "execution_count": 30,
   "id": "7000416b",
   "metadata": {},
   "outputs": [
    {
     "data": {
      "text/plain": [
       "(56033000100.0, 1101001400.0, 52968493991.574265)"
      ]
     },
     "execution_count": 30,
     "metadata": {},
     "output_type": "execute_result"
    }
   ],
   "source": [
    "df['2020 Census Tract'].max(), df['2020 Census Tract'].min(), df['2020 Census Tract'].mean()"
   ]
  },
  {
   "cell_type": "code",
   "execution_count": 37,
   "id": "3d78b37a",
   "metadata": {},
   "outputs": [
    {
     "name": "stdout",
     "output_type": "stream",
     "text": [
      "Lower Bound: 53002912491.0\n",
      "Upper Bound: 53083168515.0\n",
      "Number of Outliers: 310\n",
      "Percentage of outliers: 0.2831541546021684\n"
     ]
    }
   ],
   "source": [
    "Q1 = df['2020 Census Tract'].quantile(0.25)\n",
    "Q3 = df['2020 Census Tract'].quantile(0.75)\n",
    "IQR = Q3 - Q1\n",
    "\n",
    "lower_bound = Q1-IQR*1.5\n",
    "upper_bound = Q3+IQR*1.5\n",
    "\n",
    "outlier = df[(df['2020 Census Tract']<lower_bound)|(df['2020 Census Tract']>upper_bound)]\n",
    "print(f'Lower Bound: {lower_bound}')\n",
    "print(f'Upper Bound: {upper_bound}')\n",
    "print(f'Number of Outliers: {len(outlier)}')\n",
    "print(f'Percentage of outliers: {((len(outlier)/len(df))*100)}')"
   ]
  },
  {
   "cell_type": "code",
   "execution_count": 42,
   "id": "3a77cdd3",
   "metadata": {},
   "outputs": [
    {
     "name": "stdout",
     "output_type": "stream",
     "text": [
      "109481\n"
     ]
    }
   ],
   "source": [
    "outliers = df[(df['2020 Census Tract'] < 10) | (df['2020 Census Tract'] > 999999)]\n",
    "print(len(outliers))"
   ]
  },
  {
   "cell_type": "markdown",
   "id": "01998c12",
   "metadata": {},
   "source": [
    "##### Census Tract IDs are usually six-digit numbers, values like 56033000100.0 and 1101001400.0 seem to have extra digits, likely   due to:\n",
    "- Data entry errors (extra digits added mistakenly).\n",
    "- Incorrect data type conversion (floats instead of integers).\n",
    "- Concatenation mistakes (other identifiers mistakenly combined)."
   ]
  },
  {
   "cell_type": "code",
   "execution_count": 43,
   "id": "43eb60bd",
   "metadata": {},
   "outputs": [],
   "source": [
    "df['2020 Census Tract'] = df['2020 Census Tract'].astype(str).str[:6]"
   ]
  },
  {
   "cell_type": "code",
   "execution_count": 44,
   "id": "12e1b4d5",
   "metadata": {},
   "outputs": [],
   "source": [
    "df['2020 Census Tract'] = df['2020 Census Tract'].astype(int)"
   ]
  },
  {
   "cell_type": "code",
   "execution_count": 45,
   "id": "04e387e7",
   "metadata": {},
   "outputs": [
    {
     "name": "stdout",
     "output_type": "stream",
     "text": [
      "0\n"
     ]
    }
   ],
   "source": [
    "outliers = df[(df['2020 Census Tract'] < 10) | (df['2020 Census Tract'] > 999999)]\n",
    "print(len(outliers))"
   ]
  },
  {
   "cell_type": "code",
   "execution_count": 46,
   "id": "3d752286",
   "metadata": {},
   "outputs": [
    {
     "data": {
      "text/html": [
       "<div>\n",
       "<style scoped>\n",
       "    .dataframe tbody tr th:only-of-type {\n",
       "        vertical-align: middle;\n",
       "    }\n",
       "\n",
       "    .dataframe tbody tr th {\n",
       "        vertical-align: top;\n",
       "    }\n",
       "\n",
       "    .dataframe thead th {\n",
       "        text-align: right;\n",
       "    }\n",
       "</style>\n",
       "<table border=\"1\" class=\"dataframe\">\n",
       "  <thead>\n",
       "    <tr style=\"text-align: right;\">\n",
       "      <th></th>\n",
       "      <th>VIN (1-10)</th>\n",
       "      <th>County</th>\n",
       "      <th>City</th>\n",
       "      <th>State</th>\n",
       "      <th>Postal Code</th>\n",
       "      <th>Model Year</th>\n",
       "      <th>Make</th>\n",
       "      <th>Model</th>\n",
       "      <th>Electric Vehicle Type</th>\n",
       "      <th>Clean Alternative Fuel Vehicle (CAFV) Eligibility</th>\n",
       "      <th>Electric Range</th>\n",
       "      <th>Base MSRP</th>\n",
       "      <th>Legislative District</th>\n",
       "      <th>DOL Vehicle ID</th>\n",
       "      <th>Vehicle Location</th>\n",
       "      <th>Electric Utility</th>\n",
       "      <th>2020 Census Tract</th>\n",
       "    </tr>\n",
       "  </thead>\n",
       "  <tbody>\n",
       "    <tr>\n",
       "      <th>109476</th>\n",
       "      <td>KM8K33AGXN</td>\n",
       "      <td>Whatcom</td>\n",
       "      <td>Bellingham</td>\n",
       "      <td>WA</td>\n",
       "      <td>98229.0</td>\n",
       "      <td>2022</td>\n",
       "      <td>HYUNDAI</td>\n",
       "      <td>KONA ELECTRIC</td>\n",
       "      <td>Battery Electric Vehicle (BEV)</td>\n",
       "      <td>Eligibility unknown as battery range has not b...</td>\n",
       "      <td>0</td>\n",
       "      <td>0</td>\n",
       "      <td>40.0</td>\n",
       "      <td>176212200</td>\n",
       "      <td>POINT (-122.414936 48.709388)</td>\n",
       "      <td>PUGET SOUND ENERGY INC||PUD NO 1 OF WHATCOM CO...</td>\n",
       "      <td>530730</td>\n",
       "    </tr>\n",
       "    <tr>\n",
       "      <th>109477</th>\n",
       "      <td>5YJ3E1EB2N</td>\n",
       "      <td>King</td>\n",
       "      <td>Sammamish</td>\n",
       "      <td>WA</td>\n",
       "      <td>98075.0</td>\n",
       "      <td>2022</td>\n",
       "      <td>TESLA</td>\n",
       "      <td>MODEL 3</td>\n",
       "      <td>Battery Electric Vehicle (BEV)</td>\n",
       "      <td>Eligibility unknown as battery range has not b...</td>\n",
       "      <td>0</td>\n",
       "      <td>0</td>\n",
       "      <td>41.0</td>\n",
       "      <td>185637224</td>\n",
       "      <td>POINT (-122.028168 47.586173)</td>\n",
       "      <td>PUGET SOUND ENERGY INC||CITY OF TACOMA - (WA)</td>\n",
       "      <td>530330</td>\n",
       "    </tr>\n",
       "    <tr>\n",
       "      <th>109478</th>\n",
       "      <td>5YJYGDEE9M</td>\n",
       "      <td>Snohomish</td>\n",
       "      <td>Bothell</td>\n",
       "      <td>WA</td>\n",
       "      <td>98021.0</td>\n",
       "      <td>2021</td>\n",
       "      <td>TESLA</td>\n",
       "      <td>MODEL Y</td>\n",
       "      <td>Battery Electric Vehicle (BEV)</td>\n",
       "      <td>Eligibility unknown as battery range has not b...</td>\n",
       "      <td>0</td>\n",
       "      <td>0</td>\n",
       "      <td>1.0</td>\n",
       "      <td>153892070</td>\n",
       "      <td>POINT (-122.212105 47.792368)</td>\n",
       "      <td>PUGET SOUND ENERGY INC</td>\n",
       "      <td>530610</td>\n",
       "    </tr>\n",
       "    <tr>\n",
       "      <th>109479</th>\n",
       "      <td>1N4AZ1CP0J</td>\n",
       "      <td>King</td>\n",
       "      <td>Shoreline</td>\n",
       "      <td>WA</td>\n",
       "      <td>98133.0</td>\n",
       "      <td>2018</td>\n",
       "      <td>NISSAN</td>\n",
       "      <td>LEAF</td>\n",
       "      <td>Battery Electric Vehicle (BEV)</td>\n",
       "      <td>Clean Alternative Fuel Vehicle Eligible</td>\n",
       "      <td>151</td>\n",
       "      <td>0</td>\n",
       "      <td>32.0</td>\n",
       "      <td>289064191</td>\n",
       "      <td>POINT (-122.343983 47.739969)</td>\n",
       "      <td>CITY OF SEATTLE - (WA)|CITY OF TACOMA - (WA)</td>\n",
       "      <td>530330</td>\n",
       "    </tr>\n",
       "    <tr>\n",
       "      <th>109480</th>\n",
       "      <td>5YJYGDEE2M</td>\n",
       "      <td>Benton</td>\n",
       "      <td>Richland</td>\n",
       "      <td>WA</td>\n",
       "      <td>99354.0</td>\n",
       "      <td>2021</td>\n",
       "      <td>TESLA</td>\n",
       "      <td>MODEL Y</td>\n",
       "      <td>Battery Electric Vehicle (BEV)</td>\n",
       "      <td>Eligibility unknown as battery range has not b...</td>\n",
       "      <td>0</td>\n",
       "      <td>0</td>\n",
       "      <td>8.0</td>\n",
       "      <td>171199227</td>\n",
       "      <td>POINT (-119.26844 46.31484)</td>\n",
       "      <td>BONNEVILLE POWER ADMINISTRATION||CITY OF RICHL...</td>\n",
       "      <td>530050</td>\n",
       "    </tr>\n",
       "  </tbody>\n",
       "</table>\n",
       "</div>"
      ],
      "text/plain": [
       "        VIN (1-10)     County        City State  Postal Code  Model Year  \\\n",
       "109476  KM8K33AGXN    Whatcom  Bellingham    WA      98229.0        2022   \n",
       "109477  5YJ3E1EB2N       King   Sammamish    WA      98075.0        2022   \n",
       "109478  5YJYGDEE9M  Snohomish     Bothell    WA      98021.0        2021   \n",
       "109479  1N4AZ1CP0J       King   Shoreline    WA      98133.0        2018   \n",
       "109480  5YJYGDEE2M     Benton    Richland    WA      99354.0        2021   \n",
       "\n",
       "           Make          Model           Electric Vehicle Type  \\\n",
       "109476  HYUNDAI  KONA ELECTRIC  Battery Electric Vehicle (BEV)   \n",
       "109477    TESLA        MODEL 3  Battery Electric Vehicle (BEV)   \n",
       "109478    TESLA        MODEL Y  Battery Electric Vehicle (BEV)   \n",
       "109479   NISSAN           LEAF  Battery Electric Vehicle (BEV)   \n",
       "109480    TESLA        MODEL Y  Battery Electric Vehicle (BEV)   \n",
       "\n",
       "        Clean Alternative Fuel Vehicle (CAFV) Eligibility  Electric Range  \\\n",
       "109476  Eligibility unknown as battery range has not b...               0   \n",
       "109477  Eligibility unknown as battery range has not b...               0   \n",
       "109478  Eligibility unknown as battery range has not b...               0   \n",
       "109479            Clean Alternative Fuel Vehicle Eligible             151   \n",
       "109480  Eligibility unknown as battery range has not b...               0   \n",
       "\n",
       "        Base MSRP  Legislative District  DOL Vehicle ID  \\\n",
       "109476          0                  40.0       176212200   \n",
       "109477          0                  41.0       185637224   \n",
       "109478          0                   1.0       153892070   \n",
       "109479          0                  32.0       289064191   \n",
       "109480          0                   8.0       171199227   \n",
       "\n",
       "                     Vehicle Location  \\\n",
       "109476  POINT (-122.414936 48.709388)   \n",
       "109477  POINT (-122.028168 47.586173)   \n",
       "109478  POINT (-122.212105 47.792368)   \n",
       "109479  POINT (-122.343983 47.739969)   \n",
       "109480    POINT (-119.26844 46.31484)   \n",
       "\n",
       "                                         Electric Utility  2020 Census Tract  \n",
       "109476  PUGET SOUND ENERGY INC||PUD NO 1 OF WHATCOM CO...             530730  \n",
       "109477      PUGET SOUND ENERGY INC||CITY OF TACOMA - (WA)             530330  \n",
       "109478                             PUGET SOUND ENERGY INC             530610  \n",
       "109479       CITY OF SEATTLE - (WA)|CITY OF TACOMA - (WA)             530330  \n",
       "109480  BONNEVILLE POWER ADMINISTRATION||CITY OF RICHL...             530050  "
      ]
     },
     "execution_count": 46,
     "metadata": {},
     "output_type": "execute_result"
    }
   ],
   "source": [
    "df.tail()"
   ]
  },
  {
   "cell_type": "code",
   "execution_count": 47,
   "id": "af4015ca",
   "metadata": {},
   "outputs": [
    {
     "data": {
      "image/png": "[encoded data removed]",
      "text/plain": [
       "<Figure size 1200x600 with 2 Axes>"
      ]
     },
     "metadata": {},
     "output_type": "display_data"
    }
   ],
   "source": [
    "plt.figure(figsize=(12,6))\n",
    "sns.heatmap(df.corr(), annot=True, cmap='coolwarm')\n",
    "plt.show()"
   ]
  },
  {
   "cell_type": "code",
   "execution_count": null,
   "id": "70fe731d",
   "metadata": {},
   "outputs": [],
   "source": []
  }
 ],
 "metadata": {
  "kernelspec": {
   "display_name": "Python 3 (ipykernel)",
   "language": "python",
   "name": "python3"
  },
  "language_info": {
   "codemirror_mode": {
    "name": "ipython",
    "version": 3
   },
   "file_extension": ".py",
   "mimetype": "text/x-python",
   "name": "python",
   "nbconvert_exporter": "python",
   "pygments_lexer": "ipython3",
   "version": "3.9.13"
  }
 },
 "nbformat": 4,
 "nbformat_minor": 5
}
